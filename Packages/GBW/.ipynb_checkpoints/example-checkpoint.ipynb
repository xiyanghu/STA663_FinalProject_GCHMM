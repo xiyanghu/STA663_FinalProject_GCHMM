{
 "cells": [
  {
   "cell_type": "code",
   "execution_count": 1,
   "metadata": {
    "collapsed": false
   },
   "outputs": [
    {
     "name": "stdout",
     "output_type": "stream",
     "text": [
      "Processing /Users/tracyx/Desktop/Stat663-Final-Project/GBW\n",
      "  Requirement already satisfied (use --upgrade to upgrade): GBW==0.1 from file:///Users/tracyx/Desktop/Stat663-Final-Project/GBW in /anaconda/lib/python3.5/site-packages\n"
     ]
    }
   ],
   "source": [
    "!pip install ."
   ]
  },
  {
   "cell_type": "code",
   "execution_count": 2,
   "metadata": {
    "collapsed": true
   },
   "outputs": [],
   "source": [
    "import GBW"
   ]
  },
  {
   "cell_type": "code",
   "execution_count": null,
   "metadata": {
    "collapsed": false
   },
   "outputs": [],
   "source": [
    "import numpy as np\n",
    "from scipy import stats\n",
    "import scipy.io\n",
    "from matplotlib import pyplot as plt\n",
    "import time\n",
    "import pstats\n",
    "\n",
    "## Load synthesized data\n",
    "Y = scipy.io.loadmat('Y.mat')['Y'] # Graph information of contacts each timestamp, dim=(84,84,107)\n",
    "X = scipy.io.loadmat('X.mat')['X'] # Hidden(infection) states, dim=(84,108), including X(0)\n",
    "G = scipy.io.loadmat('G.mat')['G'] # Observed(symptom) states, dim=(84,6,107)\n",
    "C = scipy.io.loadmat('C.mat')['C']\n",
    "\n",
    "sC = [np.sum(c[0], 1) for c in C]"
   ]
  },
  {
   "cell_type": "code",
   "execution_count": null,
   "metadata": {
    "collapsed": false
   },
   "outputs": [],
   "source": [
    "GBW.AEMBP_GCHMM(G,Y,C, sC, 'f', 5, 0.0001,X)"
   ]
  },
  {
   "cell_type": "code",
   "execution_count": null,
   "metadata": {
    "collapsed": true
   },
   "outputs": [],
   "source": []
  }
 ],
 "metadata": {
  "anaconda-cloud": {},
  "kernelspec": {
   "display_name": "Python [default]",
   "language": "python",
   "name": "python3"
  },
  "language_info": {
   "codemirror_mode": {
    "name": "ipython",
    "version": 3
   },
   "file_extension": ".py",
   "mimetype": "text/x-python",
   "name": "python",
   "nbconvert_exporter": "python",
   "pygments_lexer": "ipython3",
   "version": "3.5.2"
  }
 },
 "nbformat": 4,
 "nbformat_minor": 1
}

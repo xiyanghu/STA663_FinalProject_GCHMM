{
 "cells": [
  {
   "cell_type": "code",
   "execution_count": 1,
   "metadata": {
    "collapsed": false
   },
   "outputs": [],
   "source": [
    "import numpy as np\n",
    "from scipy import stats\n",
    "import scipy.io\n",
    "from matplotlib import pyplot as plt\n",
    "import pstats\n",
    "import time"
   ]
  },
  {
   "cell_type": "code",
   "execution_count": 2,
   "metadata": {
    "collapsed": false
   },
   "outputs": [],
   "source": [
    "def Gibbs_naive(G, Ytrue, mask, T, \n",
    "          prior={'ap':2, 'bp':5, 'aa':2, 'ba':5, 'ab':2, 'bb':5, 'ar':2, 'br':5, 'a1':5, 'b1':2, 'a0':2, 'b0':3}):\n",
    "    # Gibbs sampling for GCHMMs with inference and parameter estimation\n",
    "    # G: non-symmetric social networks\n",
    "    # Y: evidence, observed data\n",
    "    # T: num. of iterations\n",
    "    N, _, D = G.shape\n",
    "    _, S, _ = Ytrue.shape\n",
    "    \n",
    "    ## Initialization\n",
    "    X = np.zeros((N,D+1), dtype='int32')\n",
    "    R = np.zeros((N,D))\n",
    "    #hyperparameters\n",
    "    ap = prior['ap']; bp = prior['bp']\n",
    "    aa = prior['aa']; ba = prior['ba']\n",
    "    ab = prior['ab']; bb = prior['bb']\n",
    "    ar = prior['ar']; br = prior['br']\n",
    "    a1 = prior['a1']; b1 = prior['b1']\n",
    "    a0 = prior['a0']; b0 = prior['b0']\n",
    "\n",
    "    xi = stats.beta.rvs(ap, bp, size=1)\n",
    "    alpha = stats.beta.rvs(aa,ba,size=1)\n",
    "    beta = stats.beta.rvs(ab,bb,size=1)\n",
    "    gamma = stats.beta.rvs(ar,br,size=1)\n",
    "    theta1 = stats.beta.rvs(a1,b1,size=(1,S)) \n",
    "    theta0 = stats.beta.rvs(a0,b0,size=(1,S)) \n",
    "    \n",
    "    ##Iterative Sampling\n",
    "    B = T/2 # Burn-in from Iteration B\n",
    "    Xbi = X # Burn-in for X\n",
    "    Ybi = np.zeros((Ytrue.shape))# Burn-in for Y\n",
    "    parabi = np.zeros((1,2*S+4)) # Burn-in for all parameters\n",
    "    NPI = np.zeros((N,D)) # Num. of previous infection\n",
    "\n",
    "    for t in range(T):\n",
    "        # sample missing Y\n",
    "        Ym, Y = sampleMissingY(mask, Ytrue, X[:,1:], theta1, theta0, N, D, S)\n",
    "        \n",
    "        # Update hidden X of initial time stamp\n",
    "        NPI[:, 0] = NumPreInf(X[:, 0], G[:, :, 0])\n",
    "        X[:,0] = updateInitialX(X[:, 0], X[:, 1], NPI[:, 0], xi, gamma, alpha, beta, N)\n",
    "    \n",
    "        # Update intermediate X\n",
    "        for i in range(1,D):\n",
    "            NPI[:,i-1] = NumPreInf(X[:,i-1],G[:,:,i-1])\n",
    "            NPI[:,i] = NumPreInf(X[:,i],G[:,:,i])\n",
    "            X[:,i] = updateIntermediaX(Y[:,:,i-1], X[:,i-1], X[:,i+1], NPI[:,i-1], NPI[:,i], theta1, theta0, gamma, alpha, beta, N)\n",
    "        \n",
    "        # Updata hidden X of last time stamp\n",
    "        NPI[:,D-1] = NumPreInf(X[:,D],G[:,:,D-1])\n",
    "        X[:,D] = updateLastX(Y[:,:,D-1], X[:,D-1], NPI[:,D-1], theta1, theta0, gamma, alpha, beta, N)\n",
    "        \n",
    "        # Update auxiliary variable R: prob p has various approximations\n",
    "        R = updateAuxR(X, NPI, alpha, beta, N, D)\n",
    "        \n",
    "        # Update parameters\n",
    "        xi = stats.beta.rvs(ap + sum(X[:,0]),bp + N - sum(X[:,0]), size = 1)\n",
    "        gamma = stats.beta.rvs(ar + np.sum(X[:,0:D]*(X[:,1:]==0)), br + np.sum(X[:,0:D] * X[:,1:]))\n",
    "        alpha = stats.beta.rvs(aa + np.sum(R == 1), ba + np.sum((X[:,0:D] == 0) * (X[:,1:] == 0)) + np.sum(R == 2))\n",
    "        beta = stats.beta.rvs(ab + np.sum(R > 1), bb + np.sum(NPI*((X[:,0:D] == 0) ^ (R > 1))))\n",
    "    \n",
    "        temp = np.transpose(np.repeat(np.expand_dims(X[:,1:], axis=2), S, axis = 2), axes = [0, 2, 1])\n",
    "        theta1 = stats.beta.rvs(a1 + np.sum(Y * temp, axis = (0,2)), b1 + np.sum((1-Y) * temp, axis = (0,2)), size = (1,S))\n",
    "        theta0 = stats.beta.rvs(a0 + np.sum(Y * (temp==0), axis = (0,2)), b0 + np.sum((1-Y) * (temp == 0), axis = (0,2)), size = (1,S))\n",
    "        #print(theta1, theta0)\n",
    "        \n",
    "        # Burn-in\n",
    "        if t>B:\n",
    "            Xbi = Xbi + X\n",
    "            Ybi = Ybi + Ym\n",
    "            parabi = parabi + np.c_[xi,alpha,beta,gamma,theta1,theta0]\n",
    "    # prediction\n",
    "    Xpred = Xbi/(T-B)\n",
    "    Ympred = Ybi/(T-B)\n",
    "    parapred = parabi/(T-B)\n",
    "    return [Xpred, Ympred, parapred]\n",
    "\n",
    "def sampleMissingY(mask, Ytrue, X, theta1, theta0, N, D, S):\n",
    "    th1 = np.repeat(np.repeat(theta1.reshape((1,S,1)), N, axis=0), D, axis=2)\n",
    "    th0 = np.repeat(np.repeat(theta0.reshape((1,S,1)), N, axis=0), D, axis=2)\n",
    "    Ym = mask * (stats.bernoulli.rvs(th1, size=Ytrue.shape) * (X == 1).reshape(N, 1 ,D) + \n",
    "                stats.bernoulli.rvs(th0, size=Ytrue.shape) * (X == 0).reshape(N, 1, D))\n",
    "    return Ym, Ym + (1 - mask) * Ytrue\n",
    "\n",
    "def updateInitialX(X0, X1, NPI0, xi, gamma, alpha, beta, N):\n",
    "    p1 = xi * (gamma**np.array(X1==0) * (1-gamma)**np.array(X1))\n",
    "    p0 = (1-xi)*(1-(1-alpha)*(1-beta)**NPI0)**X1 * ((1-alpha)*(1-beta)**NPI0)**(X1==0)\n",
    "    p = p1 / (p0+p1)\n",
    "    return 0+(np.random.rand(N,)<=p)\n",
    "\n",
    "def updateIntermediaX(Y_cur, X_prev, X_next, NPI_prev, NPI_cur, theta1, theta0, gamma, alpha, beta, N):\n",
    "    tmp1 = np.exp(Y_cur @ np.log(theta1.T))*np.exp((1-Y_cur) @ np.log(1-theta1.T))\n",
    "    p1 = gamma**(X_next==0)*(1-gamma)**(X_prev+X_next)*(1-(1-alpha)*(1-beta)**NPI_prev)**(X_prev==0) * tmp1.reshape((N,))\n",
    "    tmp0 = np.exp(Y_cur @ np.log(theta0.T))*np.exp((1-Y_cur) @ np.log(1-theta0.T))\n",
    "    p0 = gamma**X_prev*(1-(1-alpha)*(1-beta)**NPI_cur)**X_next*(1-alpha)**((X_prev==0)+(X_next==0))*(1-beta)**(NPI_prev*(X_prev==0)+NPI_cur*(X_next==0))*tmp0.reshape((N,))\n",
    "    p = p1 / (p0 + p1)\n",
    "    return 0 + (np.random.rand(N,)<=p)\n",
    "\n",
    "def updateLastX(Y_cur, X_prev, NPI_prev, theta1, theta0, gamma, alpha, beta, N):\n",
    "    tmp1 = np.exp(Y_cur @ np.log(theta1.T))* np.exp((1-Y_cur) @ np.log(1-theta1.T))\n",
    "    p1 = (1-gamma) ** X_prev * (1-(1-alpha) * (1-beta) ** NPI_prev)**(X_prev==0)*tmp1.reshape((N,))\n",
    "    tmp0 = np.exp(Y_cur @ np.log(theta0.T))*np.exp((1-Y_cur) @ np.log(1-theta0.T))\n",
    "    p0 = gamma ** X_prev*((1-alpha)*(1-beta)**NPI_prev)**(X_prev==0)*tmp0.reshape((N,))\n",
    "    p = p1 / (p0 + p1)\n",
    "    return 0 + (np.random.rand(N,) <= p)\n",
    "\n",
    "def updateAuxR(X, NPI, alpha, beta, N, D):\n",
    "    p = alpha / (alpha + beta * NPI)\n",
    "    tmp = 2 - (np.random.rand(N, D) <= p)\n",
    "    return (X[:,0:D]==0)*X[:,1:]*tmp"
   ]
  },
  {
   "cell_type": "code",
   "execution_count": 9,
   "metadata": {
    "collapsed": true
   },
   "outputs": [],
   "source": [
    "def NumPreInf(Xt,Gt):\n",
    "    m = Gt.shape[0] \n",
    "    gt = np.zeros((m, m))\n",
    "    res = np.zeros((m, )) \n",
    "    for i in range(m):\n",
    "        for j in range(m):\n",
    "            gt[i,j] = (Gt[i,j] + Gt[j,i]) > 0\n",
    "    \n",
    "\n",
    "    for i in range(m):\n",
    "        res[i] = 0\n",
    "        for k in range(m):\n",
    "            res[i] += gt[i,k] * Xt[k]\n",
    "    return res"
   ]
  },
  {
   "cell_type": "code",
   "execution_count": null,
   "metadata": {
    "collapsed": true
   },
   "outputs": [],
   "source": [
    "Y = scipy.io.loadmat('Y.mat')['Y']\n",
    "X = scipy.io.loadmat('X.mat')['X']\n",
    "G = scipy.io.loadmat('G.mat')['G']"
   ]
  },
  {
   "cell_type": "code",
   "execution_count": null,
   "metadata": {
    "collapsed": true
   },
   "outputs": [],
   "source": [
    "missing_rate = 0\n",
    "mask = stats.bernoulli.rvs(missing_rate, size = Y.shape)\n",
    "Ymask = Y * mask\n",
    "Ytrue = Y * (1 - mask)"
   ]
  },
  {
   "cell_type": "code",
   "execution_count": null,
   "metadata": {
    "collapsed": true
   },
   "outputs": [],
   "source": [
    "def work_naive(G, Ytrue, mask, T = 500):\n",
    "    work_naive(G, Ytrue, mask, T = 500)"
   ]
  },
  {
   "cell_type": "code",
   "execution_count": null,
   "metadata": {
    "collapsed": true
   },
   "outputs": [],
   "source": [
    "%prun -q -D work_naive.prof work_naive(G, Ytrue, mask, T = 500)"
   ]
  },
  {
   "cell_type": "code",
   "execution_count": 19,
   "metadata": {
    "collapsed": false
   },
   "outputs": [
    {
     "name": "stdout",
     "output_type": "stream",
     "text": [
      "Sun Apr 30 23:10:20 2017    work_forloop.prof\n",
      "\n",
      "         894724 function calls in 2113.522 seconds\n",
      "\n",
      "   Ordered by: call count\n",
      "   List reduced from 74 to 10 due to restriction <10>\n",
      "\n",
      "   ncalls  tottime  percall  cumtime  percall filename:lineno(function)\n",
      "   214005    0.711    0.000    0.711    0.000 {built-in method numpy.core.multiarray.zeros}\n",
      "   110004    0.241    0.000    0.241    0.000 {method 'reshape' of 'numpy.ndarray' objects}\n",
      "   107000 2093.518    0.020 2094.229    0.020 <ipython-input-9-70fe7ab18de4>:1(NumPreInf)\n",
      "    54500    0.816    0.000    0.816    0.000 {method 'rand' of 'mtrand.RandomState' objects}\n",
      "    53000   11.580    0.000   12.555    0.000 <ipython-input-8-f7f4b9e9c716>:91(updateIntermediaX)\n",
      "    47295    0.062    0.000    0.062    0.000 {built-in method numpy.core.multiarray.array}\n",
      "    20743    0.004    0.000    0.004    0.000 {built-in method builtins.len}\n",
      "    20000    0.005    0.000    0.005    0.000 /opt/conda/lib/python3.5/site-packages/numpy/lib/stride_tricks.py:62(<genexpr>)\n",
      "    18512    0.249    0.000    0.249    0.000 {method 'reduce' of 'numpy.ufunc' objects}\n",
      "    17030    0.009    0.000    0.009    0.000 /opt/conda/lib/python3.5/site-packages/numpy/lib/stride_tricks.py:193(<genexpr>)\n",
      "\n",
      "\n"
     ]
    }
   ],
   "source": [
    "p = pstats.Stats('work_naive.prof')\n",
    "p.sort_stats('ncalls').print_stats(10)\n",
    "pass"
   ]
  }
 ],
 "metadata": {
  "kernelspec": {
   "display_name": "Python 3",
   "language": "python",
   "name": "python3"
  },
  "language_info": {
   "codemirror_mode": {
    "name": "ipython",
    "version": 3
   },
   "file_extension": ".py",
   "mimetype": "text/x-python",
   "name": "python",
   "nbconvert_exporter": "python",
   "pygments_lexer": "ipython3",
   "version": "3.5.2"
  }
 },
 "nbformat": 4,
 "nbformat_minor": 2
}

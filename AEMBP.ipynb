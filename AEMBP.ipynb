{
 "cells": [
  {
   "cell_type": "code",
   "execution_count": 22,
   "metadata": {
    "collapsed": false
   },
   "outputs": [],
   "source": [
    "import numpy as np\n",
    "from scipy import stats\n",
    "import scipy.io\n",
    "from matplotlib import pyplot as plt\n",
    "import pstats"
   ]
  },
  {
   "cell_type": "code",
   "execution_count": 29,
   "metadata": {
    "collapsed": false
   },
   "outputs": [],
   "source": [
    "# Message Passing on Single Node\n",
    "# G: non-symmetric social networks\n",
    "# Y: evidence, observed data\n",
    "# T: num. of iterations\n",
    "# X: used for test\n",
    "\n",
    "def AEMBP(G,Y,C, initial, MaxIter, tol,X, prior={'xi': 0.25, 'alpha':0.1, 'beta':0.1, 'gamma':0.5, \n",
    "                                                  'theta_1':0.75, 'theta_0':0.25, 'ax':2, 'bx':5, \n",
    "                                                  'aa':2, 'ba':5, 'ab':2,'bb':5, 'ar':2, 'br':5,\n",
    "                                                  'al':2,'bl':2,'a0':2,'b0':5}):\n",
    "    Xr = X\n",
    "    N, _, D = G.shape # N*N*D\n",
    "    _, S, _ = Y.shape # N*S*D\n",
    "\n",
    "    for i in range(D):\n",
    "        Gt = G[:,:,i]\n",
    "        G[:,:,i] = np.eye(N) + (Gt+Gt.T)>0        \n",
    "\n",
    "    # Initialization\n",
    "    if initial == 'f':\n",
    "        # A good trial\n",
    "        xi = prior['xi']; alpha = prior['alpha']\n",
    "        beta = prior['beta']; gamma = prior['gamma']\n",
    "        theta1 = prior.get(\"theta_1\")*np.ones((1,S)) \n",
    "        theta0 = prior.get(\"theta_0\")*np.ones((1,S))\n",
    "    else:\n",
    "        # Initial by random sampling, has a chance to fail\n",
    "        ax=prior['ax']; bx=prior['bx'] \n",
    "        aa=prior['aa']; ba=prior['ba'] \n",
    "        ab=prior['ab']; bb=prior['bb'] \n",
    "        ar=prior['ar']; br=prior['br']\n",
    "        a1=prior['al']; b1=prior['bl'] \n",
    "        a0=prior['a0']; b0=prior['b0']\n",
    "\n",
    "        xi = stats.beta.rvs(ax, bx, size=1)\n",
    "        alpha = stats.beta.rvs(aa, ba, size=1)\n",
    "        beta = stats.beta.rvs(ab, bb, size=1)\n",
    "        gamma = stats.beta.rvs(ar,br, size=1)\n",
    "        theta1 = stats.beta.rvs(a1,b1,size=(1,S)) \n",
    "        theta0 = stats.beta.rvs(a0,b0,size=(1,S))\n",
    "\n",
    "    para = np.c_[xi, alpha, beta, gamma, theta1, theta0]\n",
    "\n",
    "\n",
    "    # Construct Belief of each X\n",
    "    PX = np.zeros((N,2,D+1))\n",
    "    # Root node X(0): N x 2\n",
    "    PX[:,:,0] = np.hstack(((1-xi)*np.ones((N,1)), xi*np.ones((N,1)))) \n",
    "    \n",
    "    LX = np.zeros((N,2,D+1))\n",
    "\n",
    "    # Construct Message between X\n",
    "    PXX = np.ones((N,N,2,D))\n",
    "    LXX = np.ones((N,N,2,D))\n",
    "\n",
    "    # Iteration\n",
    "    for T in range(MaxIter): \n",
    "        #print(T)\n",
    "        para1 = para\n",
    "        \n",
    "        f0 = lambda u: (1-beta)**u;\n",
    "        f1 = lambda u: 1-(1-alpha)*(1-beta)**u\n",
    "    # Expectation\n",
    "        # Update PX,LX,BEL  \n",
    "        LX[:,:,0] = np.hstack((np.prod(LXX[:,:,0,0],1)[:, None], np.prod(LXX[:,:,1,0],1)[:, None]))\n",
    "\n",
    "        for i in range(1,D):\n",
    "            PX[:,:,i] = fGX(G[:,:,i-1], PXX[:,:,:,i-1], alpha, gamma, C, f0, f1)\n",
    "            LX[:,:,i] = np.hstack((fYX(Y[:,:,i-1], theta0) * np.prod(LXX[:,:,0,i],1)[:, None],\n",
    "                              fYX(Y[:,:,i-1], theta1) * np.prod(LXX[:,:,1,i],1)[:, None]))\n",
    "        PX[:,:,D] = fGX(G[:,:,D-1], PXX[:,:,:,D-1], alpha, gamma, C, f0, f1)\n",
    "        LX[:,:,D] = np.hstack((fYX(Y[:,:,D-1],theta0), fYX(Y[:,:,D-1], theta1)))\n",
    "\n",
    "        BEL = PX*LX\n",
    "        BEL = BEL/np.sum(BEL,1,keepdims=True)\n",
    "        #BEL = bsxfun(@rdivide,BEL,np.sum(BEL,1)) #normalization\n",
    "\n",
    "    # test sesseion\n",
    "        tmpbel = np.transpose(BEL, axes = [0, 2, 1])\n",
    "        xpred = tmpbel[:,:,1] > tmpbel[:,:,0]\n",
    "        acc = np.sum(xpred==Xr) / N / (D+1);\n",
    "\n",
    "    \n",
    "        LXX1 = LXX\n",
    "        for i in range(D):\n",
    "            # Update LXX\n",
    "            tp0 = np.sum(LX[:,:,i+1]*np.hstack(((1-alpha)*SumProd(G[:,:,i],PXX[:,:,:,i],f0,C),SumProd(G[:,:,i],PXX[:,:,:,i],f1,C))), 1)\n",
    "            tp1 = (LX[:,:,i+1] @ np.vstack((gamma,1-gamma))).reshape(-1)\n",
    "            LXX[:,:,0,i] = LXX[:,:,0,i] * (1-np.eye(N)) + np.diag(tp0 / (tp0+tp1))\n",
    "            LXX[:,:,1,i] = LXX[:,:,1,i] * (1-np.eye(N)) + np.diag(tp1 / (tp0+tp1))   \n",
    "            \n",
    "            Gt = G[:,:,i] - np.eye(N)\n",
    "            for j in range(N):\n",
    "                ind = np.where(Gt[j,:]==1)[0]\n",
    "                for k in range(len(ind)):\n",
    "                    if len(ind)==1:\n",
    "                        temp0 = LX[j,0,i+1] * (gamma*PXX[j,j,1,i] + (1-alpha)*PXX[j,j,0,i]) + LX[j,1,i+1] * ((1-gamma)*PXX[j,j,1,i] + alpha*PXX[j,j,0,i])\n",
    "                        temp1 = LX[j,0,i+1] * (gamma*PXX[j,j,1,i] + (1-alpha)*(1-beta)*PXX[j,j,0,i]) + LX[j,1,i+1] * ((1-gamma)*PXX[j,j,1,i]+(1-(1-alpha)*(1-beta))*PXX[j,j,0,i]) \n",
    "                    else:\n",
    "                        #\n",
    "                        temp0 = LX[j,0,i+1] * (gamma*PXX[j,j,1,i] + (1-alpha)*PXX[j,j,0,i]*sp(0,Gt[j,:],ind[k],PXX[j:(j+1),:,:,i],f0,C[int(np.sum(Gt[j,:]))-2][0])) + LX[j,1,i+1]*((1-gamma)*PXX[j,j,1,i] + PXX[j,j,0,i]*sp(0, Gt[j,:], ind[k], PXX[j:(j+1),:,:,i], f1, C[int(np.sum(Gt[j,:]))-2][0]))                     \n",
    "                        temp1 = LX[j,0,i+1] * (gamma*PXX[j,j,1,i] + (1-alpha)*PXX[j,j,0,i]*sp(1,Gt[j,:],ind[k],PXX[j:(j+1),:,:,i],f0,C[int(np.sum(Gt[j,:]))-2][0])) + LX[j,1,i+1]*((1-gamma)*PXX[j,j,1,i] + PXX[j,j,0,i]*sp(1, Gt[j,:], ind[k], PXX[j:(j+1),:,:,i], f1, C[int(np.sum(Gt[j,:]))-2][0]))\n",
    "                    LXX[j,ind[k],0,i] = temp0/(temp0+temp1)\n",
    "                    LXX[j,ind[k],1,i] = temp1/(temp0+temp1)\n",
    "            \n",
    "            # Update PXX\n",
    "            tmp0 = BEL[:,0,i] / LXX1[:,:,0,i]\n",
    "            tmp1 = BEL[:,1,i] / LXX1[:,:,1,i]\n",
    "            tmp0[np.isnan(tmp0)] = 0\n",
    "            tmp1[np.isnan(tmp1)] = 0\n",
    "            tmp = tmp0 + tmp1\n",
    "            \n",
    "            # normalization\n",
    "            tmp0 = tmp0 / tmp  \n",
    "            tmp1 = tmp1 / tmp \n",
    "            \n",
    "            tmp0[G[:,:,i]==0] = 1\n",
    "            tmp1[G[:,:,i]==0] = 1\n",
    "            PXX[:,:,0,i] = tmp0\n",
    "            PXX[:,:,1,i] = tmp1\n",
    "    # pproximate Maximization\n",
    "        Xpred = np.transpose(BEL,axes =[0,2,1])\n",
    "        X = 0 + (Xpred[:,:,1] > Xpred[:,:,0])\n",
    "        \n",
    "        # Num. of previous infection\n",
    "        NPI = NumPreInf(X,G)  \n",
    "    \n",
    "        xi = np.sum(X[:,0]) / N\n",
    "        gamma = np.sum((X[:,0:D]==1)*(X[:,1:]==0))/np.sum(X[:,0:D]==1)\n",
    "        alpha = np.sum((X[:,0:D]==0)*X[:,1:]*(NPI==0))/np.sum((X[:,0:D]==0)*(NPI==0))\n",
    "        beta = UpdateBeta(NPI, X, alpha)\n",
    "        temp = np.transpose(np.repeat(np.expand_dims(X[:,1:], axis=2),\n",
    "                                      S, axis = 2), axes = [0, 2, 1])\n",
    "        theta1 = np.sum(Y * temp, axis = (0, 2)) / np.sum(temp, axis = (0, 2)).reshape((1, S))\n",
    "        theta0 = np.sum(Y * (temp == 0), axis = (0, 2)) / np.sum((temp == 0), axis = (0, 2)).reshape((1, S))\n",
    "\n",
    "    # Convergence\n",
    "        para = np.c_[xi, alpha, beta, gamma, theta1, theta0]\n",
    "        # print(para)\n",
    "        diff = para1 - para\n",
    "        if np.max(diff) < tol:\n",
    "            break\n",
    "    return [BEL, para]"
   ]
  },
  {
   "cell_type": "code",
   "execution_count": 30,
   "metadata": {
    "collapsed": true
   },
   "outputs": [],
   "source": [
    "# Yt is a matrix\n",
    "def fYX(Yt,theta):\n",
    "#compute the message from Y->X\n",
    "    L = np.prod((Yt * theta + (1-Yt) * (1-theta)),1)[:,None]\n",
    "    return(L)"
   ]
  },
  {
   "cell_type": "code",
   "execution_count": 31,
   "metadata": {
    "collapsed": true
   },
   "outputs": [],
   "source": [
    "def fGX(Gt,PXXt,a,r,C,f0,f1):\n",
    "# compute the belief from parent\n",
    "    tmp0 = (r * np.diag(PXXt[:,:,1]))[:,None] + ((1-a)*np.diag(PXXt[:,:,0]))[:,None] * SumProd(Gt,PXXt,f0,C)\n",
    "    tmp1 = ((1-r) * np.diag(PXXt[:,:,1]))[:,None] + (np.diag(PXXt[:,:,0]))[:,None] * SumProd(Gt,PXXt,f1,C)\n",
    "    P = np.hstack((tmp0,tmp1))\n",
    "    return(P)"
   ]
  },
  {
   "cell_type": "code",
   "execution_count": 32,
   "metadata": {
    "collapsed": false
   },
   "outputs": [],
   "source": [
    "def SumProd(Gtt,PXXt,fun,C):\n",
    "# compute the form: \\sum fun(...) \\prod f_i\n",
    "    Gt = Gtt.copy()\n",
    "    N, _ = Gt.shape\n",
    "    Gt = Gt - np.eye(N)\n",
    "    cnt = np.sum(Gt,1)\n",
    "    res = np.zeros((N,1))#\n",
    "    for i in range(N):\n",
    "        k = int(cnt[i])\n",
    "        if k == 0:\n",
    "            res[i] = 1\n",
    "            continue\n",
    "        tmp = PXXt[i, Gt[i,:]==1,:][None,:,:]\n",
    "        tmp0 = np.matlib.repmat(tmp[:,:,0],2**k,1)\n",
    "        tmp1 = np.matlib.repmat(tmp[:,:,1],2**k,1)\n",
    "        res[i] = np.sum(fun(np.sum(C[k-1][0],1)[:, None]) * np.prod(C[k-1][0]*tmp1+(1-C[k-1][0])*tmp0,1)[:,None])\n",
    "    return(res)"
   ]
  },
  {
   "cell_type": "code",
   "execution_count": 33,
   "metadata": {
    "collapsed": false
   },
   "outputs": [],
   "source": [
    "def sp(x,Gjt,indk,P,fun,Ck):\n",
    "# compute sum product\n",
    "    Gtj = Gjt.copy()\n",
    "    Gtj[indk] = 0 \n",
    "    tmp = P[0:1, Gtj==1, :]\n",
    "    H, _ = Ck.shape\n",
    "    tmp0 = np.matlib.repmat(tmp[:,:,0],H,1)\n",
    "    tmp1 = np.matlib.repmat(tmp[:,:,1],H,1)\n",
    "    res = np.sum(fun(x + np.sum(Ck,1)) * np.prod(Ck*tmp1+(1-Ck)*tmp0,1))\n",
    "    return(res)"
   ]
  },
  {
   "cell_type": "code",
   "execution_count": 34,
   "metadata": {
    "collapsed": false
   },
   "outputs": [],
   "source": [
    "def NumPreInf(X,G):\n",
    "# compute the number of connected nodes = 1 at previous timestamp\n",
    "    N, _, D = G.shape\n",
    "    NPI = np.zeros((N,D)) # Num. of previous infection\n",
    "    for i in range(D):\n",
    "        Gt = G[:,:,i] - np.eye(N);\n",
    "        Xt = X[:,i]\n",
    "        tmp = (Gt + Gt.T)>0\n",
    "        NPI[:,i] = np.dot(tmp, Xt)\n",
    "    return(NPI)"
   ]
  },
  {
   "cell_type": "code",
   "execution_count": 35,
   "metadata": {
    "collapsed": false
   },
   "outputs": [],
   "source": [
    "def UpdateBeta(NPI,X,alpha):\n",
    "    _, D = NPI.shape\n",
    "    #mcnt = max(NPI.ravel())\n",
    "    mcnt = int(np.max(NPI))\n",
    "    B = np.zeros((mcnt,1))\n",
    "    for i in range(mcnt):\n",
    "        tmp = np.sum((X[:,0:D]==0)*(X[:,1:D+1]==0)*(NPI==(i+1))) / np.sum((X[:,0:D]==0)*(NPI==(i+1)))\n",
    "        B[i] = min(np.power(tmp/(1-alpha),(1/(i+1))), 1)\n",
    "    beta = 1 - np.mean(B)\n",
    "    return(beta)"
   ]
  },
  {
   "cell_type": "code",
   "execution_count": 36,
   "metadata": {
    "collapsed": false
   },
   "outputs": [],
   "source": [
    "# Ground Truth\n",
    "# parameter setting of synthesized data\n",
    "N = 84 # Num. of Subjects\n",
    "S = 6 # Num. of Symptoms\n",
    "D = 107 # Num. of Days\n",
    "xi = 0.1 # initial day infectious prob, for X(0) in paper or X(1) in code\n",
    "alpha = 0.01 #infectious from outside G\n",
    "beta = 0.02 # infectious from inside G\n",
    "gamma = 0.25 # rocover rate\n",
    "# emission prob of symptoms conditioinal on X\n",
    "theta1 = np.c_[0.6553089, 0.6084534, 0.7178486, 0.5339896, 0.6017937, 0.6760742]\n",
    "theta0 = np.c_[0.2158567, 0.1982201, 0.3147937, 0.2334333, 0.4153388, 0.0698550]\n",
    "para = np.c_[xi, alpha, beta, gamma, theta1, theta0] # true parameters\n",
    "\n",
    "## Load synthesized data\n",
    "Y = scipy.io.loadmat('Y.mat')['Y'] # Graph information of contacts each timestamp, dim=(84,84,107)\n",
    "X = scipy.io.loadmat('X.mat')['X'] # Hidden(infection) states, dim=(84,108), including X(0)\n",
    "G = scipy.io.loadmat('G.mat')['G'] # Observed(symptom) states, dim=(84,6,107)\n",
    "C = scipy.io.loadmat('C.mat')['C']"
   ]
  },
  {
   "cell_type": "code",
   "execution_count": 37,
   "metadata": {
    "collapsed": true
   },
   "outputs": [],
   "source": [
    "def work(G,Y,C, initial, MaxIter, tol,X):\n",
    "    AEMBP(G,Y,C, initial, MaxIter, tol,X)"
   ]
  },
  {
   "cell_type": "code",
   "execution_count": 38,
   "metadata": {
    "collapsed": false
   },
   "outputs": [
    {
     "name": "stdout",
     "output_type": "stream",
     "text": [
      " \n",
      "*** Profile stats marshalled to file 'AEMBP.prof'. \n"
     ]
    }
   ],
   "source": [
    "%prun -q -D AEMBP.prof AEMBP(G, Y, C, 'f', 5, 0.0001, X)"
   ]
  },
  {
   "cell_type": "code",
   "execution_count": 39,
   "metadata": {
    "collapsed": false
   },
   "outputs": [
    {
     "name": "stdout",
     "output_type": "stream",
     "text": [
      "Mon May  1 05:50:20 2017    AEMBP.prof\n",
      "\n",
      "         24804611 function calls in 66.411 seconds\n",
      "\n",
      "   Ordered by: internal time, cumulative time\n",
      "   List reduced from 67 to 15 due to restriction <15>\n",
      "\n",
      "   ncalls  tottime  percall  cumtime  percall filename:lineno(function)\n",
      "   576640   15.691    0.000   42.730    0.000 <ipython-input-33-a74d365c9cea>:1(sp)\n",
      "  2832449    9.775    0.000    9.775    0.000 {method 'reduce' of 'numpy.ufunc' objects}\n",
      "     2140    5.726    0.003   14.378    0.007 <ipython-input-32-959b20fc46eb>:1(SumProd)\n",
      "        1    5.718    5.718   66.411   66.411 <ipython-input-29-132daf26b55b>:7(AEMBP)\n",
      "  1500600    5.081    0.000   13.703    0.000 /opt/conda/lib/python3.5/site-packages/numpy/matlib.py:310(repmat)\n",
      "  2079994    4.722    0.000   13.463    0.000 /opt/conda/lib/python3.5/site-packages/numpy/core/fromnumeric.py:1743(sum)\n",
      "  3001205    4.390    0.000    4.390    0.000 {method 'repeat' of 'numpy.ndarray' objects}\n",
      "   375150    3.656    0.000    3.656    0.000 <ipython-input-29-132daf26b55b>:62(<lambda>)\n",
      "  4503420    2.329    0.000    2.329    0.000 {method 'reshape' of 'numpy.ndarray' objects}\n",
      "   375150    2.298    0.000    2.298    0.000 <ipython-input-29-132daf26b55b>:61(<lambda>)\n",
      "   752440    1.685    0.000    5.064    0.000 /opt/conda/lib/python3.5/site-packages/numpy/core/fromnumeric.py:2433(prod)\n",
      "  1510247    1.475    0.000    1.930    0.000 /opt/conda/lib/python3.5/site-packages/numpy/core/numeric.py:484(asanyarray)\n",
      "  2079994    1.131    0.000    8.018    0.000 /opt/conda/lib/python3.5/site-packages/numpy/core/_methods.py:31(_sum)\n",
      "  2082240    0.723    0.000    0.723    0.000 {built-in method builtins.isinstance}\n",
      "   578780    0.699    0.000    0.699    0.000 {method 'copy' of 'numpy.ndarray' objects}\n",
      "\n",
      "\n"
     ]
    }
   ],
   "source": [
    "p = pstats.Stats('AEMBP.prof')\n",
    "p.sort_stats('time','cumulative').print_stats(15)\n",
    "pass"
   ]
  }
 ],
 "metadata": {
  "kernelspec": {
   "display_name": "Python 3",
   "language": "python",
   "name": "python3"
  },
  "language_info": {
   "codemirror_mode": {
    "name": "ipython",
    "version": 3
   },
   "file_extension": ".py",
   "mimetype": "text/x-python",
   "name": "python",
   "nbconvert_exporter": "python",
   "pygments_lexer": "ipython3",
   "version": "3.5.2"
  }
 },
 "nbformat": 4,
 "nbformat_minor": 2
}
